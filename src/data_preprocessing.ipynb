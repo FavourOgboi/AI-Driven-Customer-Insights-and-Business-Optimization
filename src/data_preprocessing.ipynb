{
 "cells": [
  {
   "cell_type": "markdown",
   "id": "65ace89b-48df-4256-a93d-7fdc4755ea30",
   "metadata": {},
   "source": [
    "# DATA PROCESSING\r\n",
    "***\r\n",
    "\r\n",
    "<p style=\"text-align: center;\">\r\n",
    "  <img src=\"../images/data-processing-methods.png\" alt=\"Data Processing\">\r\n",
    "</p>\r\n",
    "</p>\r\n"
   ]
  },
  {
   "cell_type": "markdown",
   "id": "38d8b759-9022-419a-9f27-4652801b3dbf",
   "metadata": {},
   "source": [
    "### Import Dependencies"
   ]
  },
  {
   "cell_type": "code",
   "execution_count": 18,
   "id": "abc3f209-c55c-418b-868b-e413d0546085",
   "metadata": {},
   "outputs": [],
   "source": [
    "import pandas as pd"
   ]
  },
  {
   "cell_type": "code",
   "execution_count": null,
   "id": "b7e68c34-03b9-463f-9f66-e93a35929b80",
   "metadata": {},
   "outputs": [],
   "source": []
  }
 ],
 "metadata": {
  "kernelspec": {
   "display_name": "Python 3 (ipykernel)",
   "language": "python",
   "name": "python3"
  },
  "language_info": {
   "codemirror_mode": {
    "name": "ipython",
    "version": 3
   },
   "file_extension": ".py",
   "mimetype": "text/x-python",
   "name": "python",
   "nbconvert_exporter": "python",
   "pygments_lexer": "ipython3",
   "version": "3.12.4"
  }
 },
 "nbformat": 4,
 "nbformat_minor": 5
}
