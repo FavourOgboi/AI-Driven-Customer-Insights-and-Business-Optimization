{
 "cells": [
  {
   "cell_type": "markdown",
   "id": "65ace89b-48df-4256-a93d-7fdc4755ea30",
   "metadata": {},
   "source": [
    "# DATA PROCESSING\r\n",
    "***\r\n",
    "\r\n",
    "<p style=\"text-align: center;\">\r\n",
    "  <img src=\"../images/data-processing-methods.png\" alt=\"Data Processing\">\r\n",
    "</p>\r\n",
    "</p>\r\n"
   ]
  },
  {
   "cell_type": "markdown",
   "id": "38d8b759-9022-419a-9f27-4652801b3dbf",
   "metadata": {},
   "source": [
    "### Import Dependencies"
   ]
  },
  {
   "cell_type": "code",
   "execution_count": 3,
   "id": "abc3f209-c55c-418b-868b-e413d0546085",
   "metadata": {},
   "outputs": [],
   "source": [
    "import pandas as pd"
   ]
  },
  {
   "cell_type": "markdown",
   "id": "29635ed0-decb-488e-b660-9649a413157e",
   "metadata": {},
   "source": [
    "***\n",
    "##### Load Dataset"
   ]
  },
  {
   "cell_type": "code",
   "execution_count": 5,
   "id": "d4f15618-8055-484b-92b7-6ac8559cdc51",
   "metadata": {},
   "outputs": [],
   "source": [
    "path = \"../data/raw/ecommerce_data_analysis.xlsx\"\n",
    "dataset = pd.read_excel(path)"
   ]
  },
  {
   "cell_type": "code",
   "execution_count": 6,
   "id": "af466bed-2dee-446d-8452-b6fbe6ba4643",
   "metadata": {},
   "outputs": [
    {
     "data": {
      "text/html": [
       "<div>\n",
       "<style scoped>\n",
       "    .dataframe tbody tr th:only-of-type {\n",
       "        vertical-align: middle;\n",
       "    }\n",
       "\n",
       "    .dataframe tbody tr th {\n",
       "        vertical-align: top;\n",
       "    }\n",
       "\n",
       "    .dataframe thead th {\n",
       "        text-align: right;\n",
       "    }\n",
       "</style>\n",
       "<table border=\"1\" class=\"dataframe\">\n",
       "  <thead>\n",
       "    <tr style=\"text-align: right;\">\n",
       "      <th></th>\n",
       "      <th>InvoiceNo</th>\n",
       "      <th>StockCode</th>\n",
       "      <th>Description</th>\n",
       "      <th>Quantity</th>\n",
       "      <th>InvoiceDate</th>\n",
       "      <th>UnitPrice</th>\n",
       "      <th>CustomerID</th>\n",
       "      <th>Country</th>\n",
       "    </tr>\n",
       "  </thead>\n",
       "  <tbody>\n",
       "    <tr>\n",
       "      <th>104176</th>\n",
       "      <td>545152</td>\n",
       "      <td>22859</td>\n",
       "      <td>EASTER TIN BUNNY BOUQUET</td>\n",
       "      <td>12</td>\n",
       "      <td>2011-02-28 12:47:00</td>\n",
       "      <td>1.65</td>\n",
       "      <td>15227.0</td>\n",
       "      <td>United Kingdom</td>\n",
       "    </tr>\n",
       "    <tr>\n",
       "      <th>454747</th>\n",
       "      <td>575602</td>\n",
       "      <td>84849D</td>\n",
       "      <td>HOT BATHS SOAP HOLDER</td>\n",
       "      <td>2</td>\n",
       "      <td>2011-11-10 12:27:00</td>\n",
       "      <td>1.69</td>\n",
       "      <td>17059.0</td>\n",
       "      <td>United Kingdom</td>\n",
       "    </tr>\n",
       "    <tr>\n",
       "      <th>440757</th>\n",
       "      <td>574547</td>\n",
       "      <td>22576</td>\n",
       "      <td>SWALLOW WOODEN CHRISTMAS DECORATION</td>\n",
       "      <td>1</td>\n",
       "      <td>2011-11-04 15:08:00</td>\n",
       "      <td>0.85</td>\n",
       "      <td>17841.0</td>\n",
       "      <td>United Kingdom</td>\n",
       "    </tr>\n",
       "    <tr>\n",
       "      <th>253455</th>\n",
       "      <td>559163</td>\n",
       "      <td>21625</td>\n",
       "      <td>VINTAGE UNION JACK APRON</td>\n",
       "      <td>1</td>\n",
       "      <td>2011-07-06 16:33:00</td>\n",
       "      <td>4.13</td>\n",
       "      <td>NaN</td>\n",
       "      <td>United Kingdom</td>\n",
       "    </tr>\n",
       "  </tbody>\n",
       "</table>\n",
       "</div>"
      ],
      "text/plain": [
       "       InvoiceNo StockCode                          Description  Quantity  \\\n",
       "104176    545152     22859             EASTER TIN BUNNY BOUQUET        12   \n",
       "454747    575602    84849D                HOT BATHS SOAP HOLDER         2   \n",
       "440757    574547     22576  SWALLOW WOODEN CHRISTMAS DECORATION         1   \n",
       "253455    559163     21625             VINTAGE UNION JACK APRON         1   \n",
       "\n",
       "               InvoiceDate  UnitPrice  CustomerID         Country  \n",
       "104176 2011-02-28 12:47:00       1.65     15227.0  United Kingdom  \n",
       "454747 2011-11-10 12:27:00       1.69     17059.0  United Kingdom  \n",
       "440757 2011-11-04 15:08:00       0.85     17841.0  United Kingdom  \n",
       "253455 2011-07-06 16:33:00       4.13         NaN  United Kingdom  "
      ]
     },
     "execution_count": 6,
     "metadata": {},
     "output_type": "execute_result"
    }
   ],
   "source": [
    "dataset.sample(4)"
   ]
  },
  {
   "cell_type": "code",
   "execution_count": 7,
   "id": "8b8f7ed8-ca92-4993-8e25-19966fee5e29",
   "metadata": {},
   "outputs": [
    {
     "data": {
      "text/plain": [
       "(541909, 8)"
      ]
     },
     "execution_count": 7,
     "metadata": {},
     "output_type": "execute_result"
    }
   ],
   "source": [
    "dataset.shape"
   ]
  },
  {
   "cell_type": "markdown",
   "id": "60c141ce-b6c6-42f9-9477-fbe91da62e8b",
   "metadata": {},
   "source": [
    "**For this dataset with the following columns:**\n",
    "\n",
    "- `InvoiceNo` - (Unique identifier for transactions)\n",
    "- `StockCode` - (Product code)\n",
    "- `Description` - (Product name)\n",
    "- `Quantity` - (Quantity purchased)\n",
    "- `InvoiceDate` - (Date of transaction)\n",
    "- `UnitPrice` - (Price per unit of the product)\n",
    "- `CustomerID` - (Unique identifier for customers)\n",
    "- `Country` - (Country of the customer)"
   ]
  },
  {
   "cell_type": "code",
   "execution_count": 10,
   "id": "c9c285c7-8e16-4aca-b1b2-9a10c4aba4f2",
   "metadata": {},
   "outputs": [
    {
     "name": "stdout",
     "output_type": "stream",
     "text": [
      "<class 'pandas.core.frame.DataFrame'>\n",
      "RangeIndex: 541909 entries, 0 to 541908\n",
      "Data columns (total 8 columns):\n",
      " #   Column       Non-Null Count   Dtype         \n",
      "---  ------       --------------   -----         \n",
      " 0   InvoiceNo    541909 non-null  object        \n",
      " 1   StockCode    541909 non-null  object        \n",
      " 2   Description  540455 non-null  object        \n",
      " 3   Quantity     541909 non-null  int64         \n",
      " 4   InvoiceDate  541909 non-null  datetime64[ns]\n",
      " 5   UnitPrice    541909 non-null  float64       \n",
      " 6   CustomerID   406829 non-null  float64       \n",
      " 7   Country      541909 non-null  object        \n",
      "dtypes: datetime64[ns](1), float64(2), int64(1), object(4)\n",
      "memory usage: 33.1+ MB\n"
     ]
    }
   ],
   "source": [
    "dataset.info()"
   ]
  },
  {
   "cell_type": "markdown",
   "id": "add9a2fc-b4a1-473c-b28f-e4d282ad1029",
   "metadata": {},
   "source": [
    "**Handling Missing Values**"
   ]
  },
  {
   "cell_type": "code",
   "execution_count": 12,
   "id": "1a7d4489-2a0c-457e-b40c-7b52cbc73537",
   "metadata": {},
   "outputs": [
    {
     "name": "stdout",
     "output_type": "stream",
     "text": [
      "Initial shape of dataset: (541909, 8)\n",
      "Missing values:\n",
      " InvoiceNo           0\n",
      "StockCode           0\n",
      "Description      1454\n",
      "Quantity            0\n",
      "InvoiceDate         0\n",
      "UnitPrice           0\n",
      "CustomerID     135080\n",
      "Country             0\n",
      "dtype: int64\n",
      "Shape of cleaned dataset: (406829, 8)\n",
      "Number of rows dropped: 135080\n",
      "Missing values in cleaned dataset:\n",
      " InvoiceNo      0\n",
      "StockCode      0\n",
      "Description    0\n",
      "Quantity       0\n",
      "InvoiceDate    0\n",
      "UnitPrice      0\n",
      "CustomerID     0\n",
      "Country        0\n",
      "dtype: int64\n"
     ]
    }
   ],
   "source": [
    "# Checking initial shape of data\n",
    "initial_shape = dataset.shape\n",
    "print(\"Initial shape of dataset:\", initial_shape)\n",
    "\n",
    "missing_values = dataset.isnull().sum()\n",
    "print(\"Missing values:\\n\", missing_values)\n",
    "\n",
    "cleaned_dataset = dataset.dropna()\n",
    "\n",
    "# Checking the cleaned dataset shape\n",
    "cleaned_shape = cleaned_dataset.shape\n",
    "print(\"Shape of cleaned dataset:\", cleaned_shape)\n",
    "\n",
    "dropped_rows = initial_shape[0] - cleaned_shape[0]\n",
    "print(\"Number of rows dropped:\", dropped_rows)\n",
    "\n",
    "# checking if cleaned dataset still has any missing values\n",
    "print(\"Missing values in cleaned dataset:\\n\", cleaned_dataset.isnull().sum())\n"
   ]
  },
  {
   "cell_type": "code",
   "execution_count": 13,
   "id": "02608e90-081f-4575-b64d-8c6bea0df296",
   "metadata": {},
   "outputs": [],
   "source": [
    "# Convert CustomerID to int\n",
    "cleaned_dataset.loc[:, 'CustomerID'] = cleaned_dataset['CustomerID'].astype('Int64')"
   ]
  },
  {
   "cell_type": "code",
   "execution_count": 14,
   "id": "ffd5038e-02a8-4a4f-9832-c82d6c422032",
   "metadata": {},
   "outputs": [
    {
     "data": {
      "text/html": [
       "<div>\n",
       "<style scoped>\n",
       "    .dataframe tbody tr th:only-of-type {\n",
       "        vertical-align: middle;\n",
       "    }\n",
       "\n",
       "    .dataframe tbody tr th {\n",
       "        vertical-align: top;\n",
       "    }\n",
       "\n",
       "    .dataframe thead th {\n",
       "        text-align: right;\n",
       "    }\n",
       "</style>\n",
       "<table border=\"1\" class=\"dataframe\">\n",
       "  <thead>\n",
       "    <tr style=\"text-align: right;\">\n",
       "      <th></th>\n",
       "      <th>InvoiceNo</th>\n",
       "      <th>StockCode</th>\n",
       "      <th>Description</th>\n",
       "      <th>Quantity</th>\n",
       "      <th>InvoiceDate</th>\n",
       "      <th>UnitPrice</th>\n",
       "      <th>CustomerID</th>\n",
       "      <th>Country</th>\n",
       "    </tr>\n",
       "  </thead>\n",
       "  <tbody>\n",
       "    <tr>\n",
       "      <th>0</th>\n",
       "      <td>536365</td>\n",
       "      <td>85123A</td>\n",
       "      <td>WHITE HANGING HEART T-LIGHT HOLDER</td>\n",
       "      <td>6</td>\n",
       "      <td>2010-12-01 08:26:00</td>\n",
       "      <td>2.55</td>\n",
       "      <td>17850.0</td>\n",
       "      <td>United Kingdom</td>\n",
       "    </tr>\n",
       "    <tr>\n",
       "      <th>1</th>\n",
       "      <td>536365</td>\n",
       "      <td>71053</td>\n",
       "      <td>WHITE METAL LANTERN</td>\n",
       "      <td>6</td>\n",
       "      <td>2010-12-01 08:26:00</td>\n",
       "      <td>3.39</td>\n",
       "      <td>17850.0</td>\n",
       "      <td>United Kingdom</td>\n",
       "    </tr>\n",
       "    <tr>\n",
       "      <th>2</th>\n",
       "      <td>536365</td>\n",
       "      <td>84406B</td>\n",
       "      <td>CREAM CUPID HEARTS COAT HANGER</td>\n",
       "      <td>8</td>\n",
       "      <td>2010-12-01 08:26:00</td>\n",
       "      <td>2.75</td>\n",
       "      <td>17850.0</td>\n",
       "      <td>United Kingdom</td>\n",
       "    </tr>\n",
       "  </tbody>\n",
       "</table>\n",
       "</div>"
      ],
      "text/plain": [
       "  InvoiceNo StockCode                         Description  Quantity  \\\n",
       "0    536365    85123A  WHITE HANGING HEART T-LIGHT HOLDER         6   \n",
       "1    536365     71053                 WHITE METAL LANTERN         6   \n",
       "2    536365    84406B      CREAM CUPID HEARTS COAT HANGER         8   \n",
       "\n",
       "          InvoiceDate  UnitPrice  CustomerID         Country  \n",
       "0 2010-12-01 08:26:00       2.55     17850.0  United Kingdom  \n",
       "1 2010-12-01 08:26:00       3.39     17850.0  United Kingdom  \n",
       "2 2010-12-01 08:26:00       2.75     17850.0  United Kingdom  "
      ]
     },
     "execution_count": 14,
     "metadata": {},
     "output_type": "execute_result"
    }
   ],
   "source": [
    "cleaned_dataset.head(3)"
   ]
  },
  {
   "cell_type": "code",
   "execution_count": 15,
   "id": "1273eaef-43ae-47ca-8f48-9ff79b514b8d",
   "metadata": {},
   "outputs": [
    {
     "name": "stdout",
     "output_type": "stream",
     "text": [
      "Number of Unique Customer IDs: 4372\n"
     ]
    }
   ],
   "source": [
    "# Getting the count of unique customer IDs\n",
    "unique_customer_count = cleaned_dataset['CustomerID'].nunique()\n",
    "\n",
    "print(\"Number of Unique Customer IDs:\", unique_customer_count)"
   ]
  },
  {
   "cell_type": "code",
   "execution_count": 16,
   "id": "a85857d7-f649-4731-b4b8-f72f5d507dc0",
   "metadata": {},
   "outputs": [
    {
     "name": "stdout",
     "output_type": "stream",
     "text": [
      "Number of StockCode: 3684\n"
     ]
    }
   ],
   "source": [
    "# Getting the count of unique stokecode\n",
    "unique_customer_count = cleaned_dataset['StockCode'].nunique()\n",
    "\n",
    "print(\"Number of StockCode:\", unique_customer_count)"
   ]
  },
  {
   "cell_type": "code",
   "execution_count": 17,
   "id": "9582176e-ffb8-456b-9377-a7e53f7c5f1f",
   "metadata": {},
   "outputs": [
    {
     "name": "stdout",
     "output_type": "stream",
     "text": [
      "Number of InvoiceNo: 22190\n"
     ]
    }
   ],
   "source": [
    "# Getting the count of unique InvoiceNo\n",
    "unique_customer_count = cleaned_dataset['InvoiceNo'].nunique()\n",
    "\n",
    "print(\"Number of InvoiceNo:\", unique_customer_count)"
   ]
  },
  {
   "cell_type": "markdown",
   "id": "01abca05-7941-4266-82b7-49056149d35c",
   "metadata": {},
   "source": [
    "Dataset contains `406,829` rows and there are `22,190` unique InvoiceNo values, that would suggest that each invoice has, on average, about 18 items (406,829 / 22,190 ≈ 18.33). This would imply that each invoice corresponds to multiple line items or products."
   ]
  },
  {
   "cell_type": "markdown",
   "id": "678427c3-3f83-4548-a761-240d8ee72d36",
   "metadata": {},
   "source": [
    "In many e-commerce datasets, it's common for a single invoice to include multiple items, resulting in multiple rows for each invoice number. **If this is the case in your dataset, then having 22,190 unique InvoiceNo for 406,829 total rows seems valid.**"
   ]
  },
  {
   "cell_type": "code",
   "execution_count": 35,
   "id": "fe6f56cc-44d6-4274-8027-c1a738e06e4d",
   "metadata": {},
   "outputs": [
    {
     "name": "stdout",
     "output_type": "stream",
     "text": [
      "InvoiceNo\n",
      "536365     7\n",
      "536366     2\n",
      "536367    12\n",
      "536368     4\n",
      "536369     1\n",
      "536370    20\n",
      "536371     1\n",
      "536372     2\n",
      "536373    16\n",
      "536374     1\n",
      "dtype: int64\n"
     ]
    }
   ],
   "source": [
    "# Check for number of items per invoice\n",
    "invoice_counts = cleaned_dataset.groupby('InvoiceNo').size()\n",
    "\n",
    "print(invoice_counts.head(10))"
   ]
  },
  {
   "cell_type": "markdown",
   "id": "9dcca2b8-87fb-49f9-9d43-5402b69ff0fd",
   "metadata": {},
   "source": [
    "**Checking For Duplicate Rows**"
   ]
  },
  {
   "cell_type": "code",
   "execution_count": 38,
   "id": "a662abc0-0289-4295-9f2e-420481bf8dbd",
   "metadata": {},
   "outputs": [
    {
     "name": "stdout",
     "output_type": "stream",
     "text": [
      "Number of duplicate rows: 5225\n"
     ]
    }
   ],
   "source": [
    "duplicate_rows = cleaned_dataset.duplicated().sum()\n",
    "print(f\"Number of duplicate rows: {duplicate_rows}\")"
   ]
  },
  {
   "cell_type": "code",
   "execution_count": 51,
   "id": "0d4a6058-f94a-4236-bcb7-4de9b57e00e5",
   "metadata": {},
   "outputs": [
    {
     "name": "stdout",
     "output_type": "stream",
     "text": [
      "Number of rows after removing duplicates: 401604\n"
     ]
    }
   ],
   "source": [
    "# Drop duplicates and assign back to the dataset variable\n",
    "cleaned_dataset = cleaned_dataset.drop_duplicates()\n",
    "\n",
    "print(f\"Number of rows after removing duplicates: {cleaned_dataset.shape[0]}\")"
   ]
  },
  {
   "cell_type": "markdown",
   "id": "1dd49c6b-d6e0-43b7-9c38-89b4abd7a426",
   "metadata": {},
   "source": [
    "**Checking For Negative Quantities**"
   ]
  },
  {
   "cell_type": "code",
   "execution_count": 53,
   "id": "8de10adf-acc2-422d-ae7d-6396cfc0ef97",
   "metadata": {},
   "outputs": [
    {
     "name": "stdout",
     "output_type": "stream",
     "text": [
      "       InvoiceNo StockCode                       Description  Quantity  \\\n",
      "141      C536379         D                          Discount        -1   \n",
      "154      C536383    35004C   SET OF 3 COLOURED  FLYING DUCKS        -1   \n",
      "235      C536391     22556    PLASTERS IN TIN CIRCUS PARADE        -12   \n",
      "236      C536391     21984  PACK OF 12 PINK PAISLEY TISSUES        -24   \n",
      "237      C536391     21983  PACK OF 12 BLUE PAISLEY TISSUES        -24   \n",
      "...          ...       ...                               ...       ...   \n",
      "540449   C581490     23144   ZINC T-LIGHT HOLDER STARS SMALL       -11   \n",
      "541541   C581499         M                            Manual        -1   \n",
      "541715   C581568     21258        VICTORIAN SEWING BOX LARGE        -5   \n",
      "541716   C581569     84978  HANGING HEART JAR T-LIGHT HOLDER        -1   \n",
      "541717   C581569     20979     36 PENCILS TUBE RED RETROSPOT        -5   \n",
      "\n",
      "               InvoiceDate  UnitPrice  CustomerID         Country  \n",
      "141    2010-12-01 09:41:00      27.50     14527.0  United Kingdom  \n",
      "154    2010-12-01 09:49:00       4.65     15311.0  United Kingdom  \n",
      "235    2010-12-01 10:24:00       1.65     17548.0  United Kingdom  \n",
      "236    2010-12-01 10:24:00       0.29     17548.0  United Kingdom  \n",
      "237    2010-12-01 10:24:00       0.29     17548.0  United Kingdom  \n",
      "...                    ...        ...         ...             ...  \n",
      "540449 2011-12-09 09:57:00       0.83     14397.0  United Kingdom  \n",
      "541541 2011-12-09 10:28:00     224.69     15498.0  United Kingdom  \n",
      "541715 2011-12-09 11:57:00      10.95     15311.0  United Kingdom  \n",
      "541716 2011-12-09 11:58:00       1.25     17315.0  United Kingdom  \n",
      "541717 2011-12-09 11:58:00       1.25     17315.0  United Kingdom  \n",
      "\n",
      "[8872 rows x 8 columns]\n"
     ]
    }
   ],
   "source": [
    "negative_quantities = cleaned_dataset[cleaned_dataset['Quantity'] < 0]\n",
    "print(negative_quantities)"
   ]
  },
  {
   "cell_type": "markdown",
   "id": "4f897ea8-ea0c-4fea-ad4c-a00222984aac",
   "metadata": {},
   "source": [
    "The prefix \"C\" in some InvoiceNo values might indicate that these are credit notes or refunds. In an e-commerce context, negative quantities often indicate returns or cancellations of orders."
   ]
  },
  {
   "cell_type": "markdown",
   "id": "d95646f3-31fa-4c5d-abc9-8b0ac6cb4dcd",
   "metadata": {},
   "source": [
    "Checking if the `prefix` of the InvoiceNo for positive quantities differs from those with negative quantities"
   ]
  },
  {
   "cell_type": "code",
   "execution_count": 57,
   "id": "a5e69309-bf5e-45f1-bbc4-4087fa933215",
   "metadata": {},
   "outputs": [
    {
     "name": "stdout",
     "output_type": "stream",
     "text": [
      "Unique prefixes for positive quantities: ['5']\n",
      "Unique prefixes for negative quantities: ['C']\n"
     ]
    }
   ],
   "source": [
    "# Filtering positive quantities\n",
    "positive_quantities = cleaned_dataset[cleaned_dataset['Quantity'] > 0].copy()  # Creating a copy to avoid SettingWithCopyWarning\n",
    "\n",
    "# Ensure InvoiceNo is treated as a string\n",
    "positive_quantities['InvoiceNo'] = positive_quantities['InvoiceNo'].astype(str)\n",
    "\n",
    "# Extracting the prefix of InvoiceNo for positive quantities\n",
    "positive_quantities['InvoicePrefix'] = positive_quantities['InvoiceNo'].str[0]\n",
    "\n",
    "# Checking unique prefixes for positive quantities\n",
    "positive_prefixes = positive_quantities['InvoicePrefix'].unique()\n",
    "print(\"Unique prefixes for positive quantities:\", positive_prefixes)\n",
    "\n",
    "# Comparing with negative quantities (make sure negative_quantities is defined and has the same checks)\n",
    "negative_prefixes = negative_quantities['InvoiceNo'].astype(str).str[0].unique()\n",
    "print(\"Unique prefixes for negative quantities:\", negative_prefixes)\n"
   ]
  },
  {
   "cell_type": "markdown",
   "id": "a72e1ebb-6515-4fda-bb2d-5a37d68e2ae5",
   "metadata": {},
   "source": [
    "# Interpretation of Results\r\n",
    "\r\n",
    "## Positive Quantities:\r\n",
    "- **Unique Prefix:** `'5'`  \r\n",
    "  This indicates that all positive transactions are associated with invoices starting with `'5'`. This could suggest a specific category of products or a particular sales channel represented by this prefix.\r\n",
    "\r\n",
    "## Negative Quantities:\r\n",
    "- **Unique Prefix:** `'C'`  \r\n",
    "  The prefix `'C'` is linked to negative quantities, which typically represent returns or discounts. This indicates that these transactions are likely processed under a specific policy or for a particular type of transaction that requires tracking of returns.\r\n"
   ]
  },
  {
   "cell_type": "code",
   "execution_count": 60,
   "id": "105c723f-db73-46c7-808a-4d3cf92bf681",
   "metadata": {},
   "outputs": [
    {
     "data": {
      "text/plain": [
       "(401604, 8)"
      ]
     },
     "execution_count": 60,
     "metadata": {},
     "output_type": "execute_result"
    }
   ],
   "source": [
    "cleaned_dataset.shape"
   ]
  },
  {
   "cell_type": "markdown",
   "id": "98757919-9388-4cd2-93c6-ac0db42bb4eb",
   "metadata": {},
   "source": [
    "**Checking For Negative Unit Price**"
   ]
  },
  {
   "cell_type": "code",
   "execution_count": 63,
   "id": "80e0068e-b71c-4c22-99c5-e2146873bb17",
   "metadata": {},
   "outputs": [
    {
     "name": "stdout",
     "output_type": "stream",
     "text": [
      "Empty DataFrame\n",
      "Columns: [InvoiceNo, StockCode, Description, Quantity, InvoiceDate, UnitPrice, CustomerID, Country]\n",
      "Index: []\n"
     ]
    }
   ],
   "source": [
    "negative_unitPrice = cleaned_dataset[cleaned_dataset['UnitPrice'] < 0]\n",
    "print(negative_unitPrice)"
   ]
  },
  {
   "cell_type": "markdown",
   "id": "f5396b46-16bf-47d6-bbed-61bd549cc8a7",
   "metadata": {},
   "source": [
    "> There are no transactions with negative unit prices in your dataset"
   ]
  },
  {
   "cell_type": "markdown",
   "id": "5e407958-0d87-42d4-8f00-59fea22aeb82",
   "metadata": {},
   "source": [
    "**Checking For Unique Country Names**"
   ]
  },
  {
   "cell_type": "code",
   "execution_count": 67,
   "id": "7da3869b-ea04-40f7-a2de-7942571353ab",
   "metadata": {},
   "outputs": [
    {
     "name": "stdout",
     "output_type": "stream",
     "text": [
      "Sorted unique country names:\n",
      "Australia\n",
      "Austria\n",
      "Bahrain\n",
      "Belgium\n",
      "Brazil\n",
      "Canada\n",
      "Channel Islands\n",
      "Cyprus\n",
      "Czech Republic\n",
      "Denmark\n",
      "EIRE\n",
      "European Community\n",
      "Finland\n",
      "France\n",
      "Germany\n",
      "Greece\n",
      "Iceland\n",
      "Israel\n",
      "Italy\n",
      "Japan\n",
      "Lebanon\n",
      "Lithuania\n",
      "Malta\n",
      "Netherlands\n",
      "Norway\n",
      "Poland\n",
      "Portugal\n",
      "RSA\n",
      "Saudi Arabia\n",
      "Singapore\n",
      "Spain\n",
      "Sweden\n",
      "Switzerland\n",
      "USA\n",
      "United Arab Emirates\n",
      "United Kingdom\n",
      "Unspecified\n"
     ]
    }
   ],
   "source": [
    "unique_countries = cleaned_dataset['Country'].unique()\n",
    "\n",
    "# Sorting unique countries\n",
    "sorted_unique_countries = sorted(unique_countries)\n",
    "\n",
    "print(\"Sorted unique country names:\")\n",
    "\n",
    "for countries in sorted_unique_countries:\n",
    "    print(countries)"
   ]
  },
  {
   "cell_type": "markdown",
   "id": "b4ad7d5a-c389-4915-bdbc-ee09f4fa8387",
   "metadata": {},
   "source": [
    "**Generating Additional Columns**"
   ]
  },
  {
   "cell_type": "code",
   "execution_count": 70,
   "id": "b096f2d8-9941-4efd-b8bd-aec48836dfbb",
   "metadata": {},
   "outputs": [
    {
     "data": {
      "text/html": [
       "<div>\n",
       "<style scoped>\n",
       "    .dataframe tbody tr th:only-of-type {\n",
       "        vertical-align: middle;\n",
       "    }\n",
       "\n",
       "    .dataframe tbody tr th {\n",
       "        vertical-align: top;\n",
       "    }\n",
       "\n",
       "    .dataframe thead th {\n",
       "        text-align: right;\n",
       "    }\n",
       "</style>\n",
       "<table border=\"1\" class=\"dataframe\">\n",
       "  <thead>\n",
       "    <tr style=\"text-align: right;\">\n",
       "      <th></th>\n",
       "      <th>InvoiceNo</th>\n",
       "      <th>StockCode</th>\n",
       "      <th>Description</th>\n",
       "      <th>Quantity</th>\n",
       "      <th>InvoiceDate</th>\n",
       "      <th>UnitPrice</th>\n",
       "      <th>CustomerID</th>\n",
       "      <th>Country</th>\n",
       "      <th>TotalPrice</th>\n",
       "      <th>Year</th>\n",
       "      <th>Month</th>\n",
       "      <th>IsCancelled</th>\n",
       "    </tr>\n",
       "  </thead>\n",
       "  <tbody>\n",
       "    <tr>\n",
       "      <th>0</th>\n",
       "      <td>536365</td>\n",
       "      <td>85123A</td>\n",
       "      <td>WHITE HANGING HEART T-LIGHT HOLDER</td>\n",
       "      <td>6</td>\n",
       "      <td>2010-12-01 08:26:00</td>\n",
       "      <td>2.55</td>\n",
       "      <td>17850.0</td>\n",
       "      <td>United Kingdom</td>\n",
       "      <td>15.30</td>\n",
       "      <td>2010</td>\n",
       "      <td>12</td>\n",
       "      <td>False</td>\n",
       "    </tr>\n",
       "    <tr>\n",
       "      <th>1</th>\n",
       "      <td>536365</td>\n",
       "      <td>71053</td>\n",
       "      <td>WHITE METAL LANTERN</td>\n",
       "      <td>6</td>\n",
       "      <td>2010-12-01 08:26:00</td>\n",
       "      <td>3.39</td>\n",
       "      <td>17850.0</td>\n",
       "      <td>United Kingdom</td>\n",
       "      <td>20.34</td>\n",
       "      <td>2010</td>\n",
       "      <td>12</td>\n",
       "      <td>False</td>\n",
       "    </tr>\n",
       "    <tr>\n",
       "      <th>2</th>\n",
       "      <td>536365</td>\n",
       "      <td>84406B</td>\n",
       "      <td>CREAM CUPID HEARTS COAT HANGER</td>\n",
       "      <td>8</td>\n",
       "      <td>2010-12-01 08:26:00</td>\n",
       "      <td>2.75</td>\n",
       "      <td>17850.0</td>\n",
       "      <td>United Kingdom</td>\n",
       "      <td>22.00</td>\n",
       "      <td>2010</td>\n",
       "      <td>12</td>\n",
       "      <td>False</td>\n",
       "    </tr>\n",
       "    <tr>\n",
       "      <th>3</th>\n",
       "      <td>536365</td>\n",
       "      <td>84029G</td>\n",
       "      <td>KNITTED UNION FLAG HOT WATER BOTTLE</td>\n",
       "      <td>6</td>\n",
       "      <td>2010-12-01 08:26:00</td>\n",
       "      <td>3.39</td>\n",
       "      <td>17850.0</td>\n",
       "      <td>United Kingdom</td>\n",
       "      <td>20.34</td>\n",
       "      <td>2010</td>\n",
       "      <td>12</td>\n",
       "      <td>False</td>\n",
       "    </tr>\n",
       "    <tr>\n",
       "      <th>4</th>\n",
       "      <td>536365</td>\n",
       "      <td>84029E</td>\n",
       "      <td>RED WOOLLY HOTTIE WHITE HEART.</td>\n",
       "      <td>6</td>\n",
       "      <td>2010-12-01 08:26:00</td>\n",
       "      <td>3.39</td>\n",
       "      <td>17850.0</td>\n",
       "      <td>United Kingdom</td>\n",
       "      <td>20.34</td>\n",
       "      <td>2010</td>\n",
       "      <td>12</td>\n",
       "      <td>False</td>\n",
       "    </tr>\n",
       "  </tbody>\n",
       "</table>\n",
       "</div>"
      ],
      "text/plain": [
       "  InvoiceNo StockCode                          Description  Quantity  \\\n",
       "0    536365    85123A   WHITE HANGING HEART T-LIGHT HOLDER         6   \n",
       "1    536365     71053                  WHITE METAL LANTERN         6   \n",
       "2    536365    84406B       CREAM CUPID HEARTS COAT HANGER         8   \n",
       "3    536365    84029G  KNITTED UNION FLAG HOT WATER BOTTLE         6   \n",
       "4    536365    84029E       RED WOOLLY HOTTIE WHITE HEART.         6   \n",
       "\n",
       "          InvoiceDate  UnitPrice  CustomerID         Country  TotalPrice  \\\n",
       "0 2010-12-01 08:26:00       2.55     17850.0  United Kingdom       15.30   \n",
       "1 2010-12-01 08:26:00       3.39     17850.0  United Kingdom       20.34   \n",
       "2 2010-12-01 08:26:00       2.75     17850.0  United Kingdom       22.00   \n",
       "3 2010-12-01 08:26:00       3.39     17850.0  United Kingdom       20.34   \n",
       "4 2010-12-01 08:26:00       3.39     17850.0  United Kingdom       20.34   \n",
       "\n",
       "   Year  Month  IsCancelled  \n",
       "0  2010     12        False  \n",
       "1  2010     12        False  \n",
       "2  2010     12        False  \n",
       "3  2010     12        False  \n",
       "4  2010     12        False  "
      ]
     },
     "execution_count": 70,
     "metadata": {},
     "output_type": "execute_result"
    }
   ],
   "source": [
    "# Total Price\n",
    "cleaned_dataset.loc[:, 'TotalPrice'] = cleaned_dataset['Quantity'] * cleaned_dataset['UnitPrice']\n",
    "\n",
    "# Extracting Year and Month from InvoiceDate\n",
    "cleaned_dataset.loc[:, 'InvoiceDate'] = pd.to_datetime(cleaned_dataset['InvoiceDate'])  # Ensure InvoiceDate is datetime\n",
    "cleaned_dataset.loc[:, 'Year'] = cleaned_dataset['InvoiceDate'].dt.year\n",
    "cleaned_dataset.loc[:, 'Month'] = cleaned_dataset['InvoiceDate'].dt.month\n",
    "\n",
    "# Check for Cancellation\n",
    "cleaned_dataset.loc[:, 'IsCancelled'] = cleaned_dataset['Quantity'] < 0  # True for cancellations, False otherwise\n",
    "\n",
    "# Display the updated DataFrame\n",
    "cleaned_dataset.head()"
   ]
  },
  {
   "cell_type": "markdown",
   "id": "c8f3835b-a600-49b3-8592-073ee4fab3c7",
   "metadata": {},
   "source": [
    "## Current DataFrame Overview\n",
    "\n",
    "Your DataFrame contains the following columns:\n",
    "\n",
    "- **InvoiceNo**: Unique identifier for each invoice.\n",
    "- **StockCode**: Unique identifier for each product.\n",
    "- **Description**: Description of the product.\n",
    "- **Quantity**: Number of items purchased (can be positive for sales or negative for cancellations).\n",
    "- **InvoiceDate**: Date and time of the transaction.\n",
    "- **UnitPrice**: Price per unit of the product.\n",
    "- **CustomerID**: Unique identifier for each customer.\n",
    "- **Country**: Country of the customer.\n",
    "- **TotalPrice**: Total amount for the transaction (calculated as Quantity × UnitPrice).\n",
    "- **Year**: Year of the transaction (extracted from InvoiceDate).\n",
    "- **Month**: Month of the transaction (extracted from InvoiceDate).\n",
    "- **IsCancelled**: Boolean indicating whether the transaction is a cancellation (True if Quantity < 0).\n"
   ]
  },
  {
   "cell_type": "code",
   "execution_count": 73,
   "id": "0e898d92-3516-42c7-9c17-6d424baf4a9c",
   "metadata": {},
   "outputs": [
    {
     "data": {
      "text/plain": [
       "(401604, 12)"
      ]
     },
     "execution_count": 73,
     "metadata": {},
     "output_type": "execute_result"
    }
   ],
   "source": [
    "cleaned_dataset.shape"
   ]
  },
  {
   "cell_type": "code",
   "execution_count": 75,
   "id": "6034214f-fc73-40d5-9103-694abb92c75c",
   "metadata": {},
   "outputs": [],
   "source": [
    "cleaned_dataset.to_excel('../data/raw/cleaned_dataset.xlsx', index=False)"
   ]
  },
  {
   "cell_type": "code",
   "execution_count": null,
   "id": "009b66e5-a202-4b7c-a50c-9b95ec7def57",
   "metadata": {},
   "outputs": [],
   "source": []
  }
 ],
 "metadata": {
  "kernelspec": {
   "display_name": "Python 3 (ipykernel)",
   "language": "python",
   "name": "python3"
  },
  "language_info": {
   "codemirror_mode": {
    "name": "ipython",
    "version": 3
   },
   "file_extension": ".py",
   "mimetype": "text/x-python",
   "name": "python",
   "nbconvert_exporter": "python",
   "pygments_lexer": "ipython3",
   "version": "3.12.4"
  }
 },
 "nbformat": 4,
 "nbformat_minor": 5
}
